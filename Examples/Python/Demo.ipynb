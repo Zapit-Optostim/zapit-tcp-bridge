{
 "cells": [
  {
   "cell_type": "markdown",
   "id": "5f2a4289-61b6-4484-a342-12f6060227f0",
   "metadata": {},
   "source": [
    "# Python TCP Demonstration Notebook"
   ]
  },
  {
   "cell_type": "markdown",
   "id": "777c7ddb",
   "metadata": {},
   "source": [
    "**The Python TCP client contains the following commands designed to be used by your experimental code**\n",
    "\n",
    "<ins>For establishing and closing a connection</ins>\n",
    "* `connect()`\n",
    "* `close()`\n",
    "\n",
    "<ins>For controlling the Zapit machine</ins>\n",
    "* `stop_optostim()`\n",
    "* `stim_config_loaded()`\n",
    "* `get_state()`\n",
    "* `get_num_conditions()`\n",
    "* `send_samples()`\n",
    "\n",
    "The first 4 commands for controlling Zapit do not take any arguments, whilst `send_samples()` accepts a list of keyword-argument pairs (documented within the code)\n",
    "\n",
    "The client code additionally contains lower-level commands (that are called by the above methods) that allow you finer-grained control of Zapit (for example, simultaneously turned `logging` to `True` whilst getting the state of Zapit).  This is demonstrated below in the **Generate a communication tuple**.  The first worked example simply shows how to use the main commands to control Zapit.\n",
    "\n",
    "\n",
    "\n",
    "\n"
   ]
  },
  {
   "cell_type": "markdown",
   "id": "e0c852f3",
   "metadata": {},
   "source": [
    "## Controlling Zapit"
   ]
  },
  {
   "cell_type": "markdown",
   "id": "9de541e7",
   "metadata": {},
   "source": [
    "### 1. Connect with Zapit"
   ]
  },
  {
   "cell_type": "markdown",
   "id": "1f1aaeaf",
   "metadata": {},
   "source": [
    "Import the class from TCPclient.py module."
   ]
  },
  {
   "cell_type": "code",
   "execution_count": null,
   "id": "3826899a",
   "metadata": {},
   "outputs": [],
   "source": [
    "from TCPclient import TCPclient"
   ]
  },
  {
   "cell_type": "markdown",
   "id": "6dd9143c",
   "metadata": {},
   "source": [
    "Create an instance of the TCPclient class"
   ]
  },
  {
   "cell_type": "code",
   "execution_count": null,
   "id": "c95bb943",
   "metadata": {},
   "outputs": [],
   "source": [
    "client = TCPclient()"
   ]
  },
  {
   "cell_type": "markdown",
   "id": "d02254b8",
   "metadata": {},
   "source": [
    "Call the `connect()` method to establish a connection with the server"
   ]
  },
  {
   "cell_type": "code",
   "execution_count": null,
   "id": "90abc16e",
   "metadata": {},
   "outputs": [],
   "source": [
    "client.connect()"
   ]
  },
  {
   "cell_type": "markdown",
   "id": "cd03e9ba",
   "metadata": {},
   "source": [
    "Check that stimulus config file is loaded"
   ]
  },
  {
   "cell_type": "code",
   "execution_count": null,
   "id": "e78b46e5",
   "metadata": {},
   "outputs": [],
   "source": [
    "client.stim_config_loaded()"
   ]
  },
  {
   "cell_type": "markdown",
   "id": "e1b9724f",
   "metadata": {},
   "source": [
    "Launch send samples (with the same command as explicitly constructed below)"
   ]
  },
  {
   "cell_type": "code",
   "execution_count": null,
   "id": "7a47752c",
   "metadata": {},
   "outputs": [],
   "source": [
    "reply = client.send_samples(conditionNum=4,stimDuration=0.1)"
   ]
  },
  {
   "cell_type": "markdown",
   "id": "2f3c50ad",
   "metadata": {},
   "source": [
    "Close the connection using the `close()` method"
   ]
  },
  {
   "cell_type": "code",
   "execution_count": null,
   "id": "987988b9",
   "metadata": {},
   "outputs": [],
   "source": [
    "client.close()"
   ]
  },
  {
   "cell_type": "markdown",
   "id": "80b5357a",
   "metadata": {},
   "source": [
    "And optionally finally delete the client"
   ]
  },
  {
   "cell_type": "code",
   "execution_count": null,
   "id": "d0316b07",
   "metadata": {},
   "outputs": [],
   "source": [
    "del client"
   ]
  },
  {
   "cell_type": "markdown",
   "id": "167caf1b",
   "metadata": {},
   "source": [
    "## Using low-level commands to achieve fine-grained control of Zapit\n"
   ]
  },
  {
   "cell_type": "markdown",
   "id": "cb4733cb-2332-47ca-8966-3cc8baa24bac",
   "metadata": {},
   "source": [
    "### 1. Generate a communication tuple"
   ]
  },
  {
   "cell_type": "markdown",
   "id": "60505d0c-cda8-4f7b-90fd-2c249471300b",
   "metadata": {},
   "source": [
    "Import the Python_TCP_Utils.py module."
   ]
  },
  {
   "cell_type": "code",
   "execution_count": 13,
   "id": "2b4b8e1a-6ed3-4071-bc97-19e164d053b6",
   "metadata": {
    "tags": []
   },
   "outputs": [],
   "source": [
    "import Python_TCP_Utils as ptu"
   ]
  },
  {
   "cell_type": "markdown",
   "id": "b6486f2a-8bda-4ceb-92ea-46e6c9717c65",
   "metadata": {},
   "source": [
    "Call the gen_Zapit_byte_tuple function."
   ]
  },
  {
   "cell_type": "code",
   "execution_count": 14,
   "id": "409f6a18-2a3b-4983-a077-9e1ace8cf189",
   "metadata": {
    "tags": []
   },
   "outputs": [],
   "source": [
    "zapit_byte_tuple, zapit_int_tuple = ptu.gen_Zapit_byte_tuple(trial_state_command = 1,\n",
    "                   arg_keys_dict = {'conditionNum': True, 'laser_On': True, \n",
    "                                    'hardwareTriggered_On': False, 'logging_On': False, \n",
    "                                    'verbose_On': True,\"stimDuration\": True, \"laserPower\": False, \"startDelaySeconds\": False},\n",
    "                   arg_values_dict = {'conditionNum': 4, 'laser_ON': True, \n",
    "                                      'hardwareTriggered_ON': False, 'logging_ON': False, \n",
    "                                      'verbose_ON': False, \"stimDuration\": 0.1, \"lasePower\":0.0, \"startDelaySeconds\": 0.0})"
   ]
  },
  {
   "cell_type": "markdown",
   "id": "ae4b6b9f-6f7b-4265-a639-fc75552c3b6e",
   "metadata": {},
   "source": [
    "### 2.  Send it to Zapit"
   ]
  },
  {
   "cell_type": "markdown",
   "id": "4937d911-760f-4c9e-9ad1-41a2c6dbecbb",
   "metadata": {},
   "source": [
    "Import the class from TCPclient.py module."
   ]
  },
  {
   "cell_type": "code",
   "execution_count": 27,
   "id": "09a8ae96-6826-4f83-a69b-c817bca14876",
   "metadata": {
    "tags": []
   },
   "outputs": [],
   "source": [
    "from TCPclient import TCPclient"
   ]
  },
  {
   "cell_type": "markdown",
   "id": "81839104-d7f4-470d-b51c-7b055de48e6e",
   "metadata": {},
   "source": [
    "Create an instance of the TCPclient class."
   ]
  },
  {
   "cell_type": "code",
   "execution_count": 28,
   "id": "b1f1e638-6849-461c-914b-e2a0409f4d78",
   "metadata": {
    "tags": []
   },
   "outputs": [],
   "source": [
    "client = TCPclient()"
   ]
  },
  {
   "cell_type": "markdown",
   "id": "dd3e99e7-af41-4583-a053-7ce7fe58b3be",
   "metadata": {},
   "source": [
    "Call the connect method to establish a connection with the server."
   ]
  },
  {
   "cell_type": "code",
   "execution_count": 29,
   "id": "e1563ae1-eb6b-43c9-adaf-55389f8ab6b6",
   "metadata": {
    "tags": []
   },
   "outputs": [
    {
     "data": {
      "text/plain": [
       "(1.0, b'\\x01', b'\\x01', b'\\x01')"
      ]
     },
     "execution_count": 29,
     "metadata": {},
     "output_type": "execute_result"
    }
   ],
   "source": [
    "client.connect()"
   ]
  },
  {
   "cell_type": "markdown",
   "id": "79c14e32-9483-45fb-817f-8f41a3a7c83f",
   "metadata": {},
   "source": [
    "Call the send_recieve method to send the zapit_byte_tuple to the server and receive a response."
   ]
  },
  {
   "cell_type": "code",
   "execution_count": 30,
   "id": "52d1ec11-4b10-4f3a-991c-ce53013733c4",
   "metadata": {
    "tags": []
   },
   "outputs": [],
   "source": [
    "response = client.send_receive(zapit_byte_tuple)"
   ]
  },
  {
   "cell_type": "markdown",
   "id": "8fae12a9-b682-4a5f-84e5-186a81a642dd",
   "metadata": {},
   "source": [
    "Call the close method to close the connection."
   ]
  },
  {
   "cell_type": "code",
   "execution_count": 23,
   "id": "68d2436e-9dc9-48b0-81a9-bbb5f573190e",
   "metadata": {
    "tags": []
   },
   "outputs": [
    {
     "name": "stdout",
     "output_type": "stream",
     "text": [
      "Connection to port 1488  at address 127.0.0.1 closed\n"
     ]
    },
    {
     "data": {
      "text/plain": [
       "(-1.0, b'\\x01', b'\\x00', b'\\x00')"
      ]
     },
     "execution_count": 23,
     "metadata": {},
     "output_type": "execute_result"
    }
   ],
   "source": [
    "client.close()"
   ]
  },
  {
   "cell_type": "markdown",
   "id": "1fdfecbb-d8a0-4002-a662-c22d31f238dd",
   "metadata": {},
   "source": [
    "Delete the instance of the class to trigger the __del__ method."
   ]
  },
  {
   "cell_type": "code",
   "execution_count": 24,
   "id": "ac314c7c-d9d6-4a81-99a5-ddbdf0bec6de",
   "metadata": {
    "tags": []
   },
   "outputs": [],
   "source": [
    "del client"
   ]
  },
  {
   "cell_type": "markdown",
   "id": "83e9b32b-666f-4662-b793-7609ba3e73cc",
   "metadata": {
    "tags": []
   },
   "source": [
    "### 3. Parse the response"
   ]
  },
  {
   "cell_type": "code",
   "execution_count": 25,
   "id": "3b8e1881-a1b1-494a-ae70-21bd0631b535",
   "metadata": {
    "tags": []
   },
   "outputs": [],
   "source": [
    "parsed_response = ptu.parse_server_response(zapit_byte_tuple = zapit_byte_tuple,\n",
    "                  datetime_double = response[0],\n",
    "                  message_type_byte = response[1],\n",
    "                  response_byte_tuple =  response[2:4])"
   ]
  },
  {
   "attachments": {},
   "cell_type": "markdown",
   "id": "019bcc10-3f70-43c6-bdf4-91637f60dbd0",
   "metadata": {},
   "source": [
    "### In a single step (you may need to restart the kernel)"
   ]
  },
  {
   "cell_type": "code",
   "execution_count": 14,
   "id": "6e6c3559-bd24-4a9f-86a1-871869db9b03",
   "metadata": {
    "tags": []
   },
   "outputs": [
    {
     "name": "stdout",
     "output_type": "stream",
     "text": [
      "Connection to port 1488  at address 127.0.0.1 closed\n"
     ]
    }
   ],
   "source": [
    "import Python_TCP_Utils as ptu\n",
    "from TCPclient import TCPclient\n",
    "\n",
    "zapit_byte_tuple, _ = ptu.gen_Zapit_byte_tuple(trial_state_command = 1,\n",
    "                   arg_keys_dict = {'conditionNum_channel': False, 'laser_channel': False, \n",
    "                                         'hardwareTriggered_channel': True, 'logging_channel': True, \n",
    "                                         'verbose_channel': True},\n",
    "                   arg_values_dict = {'conditionNum': 101, 'laser_ON': True, \n",
    "                                           'hardwareTriggered_ON': False, 'logging_ON': False, \n",
    "                                           'verbose_ON': True})\n",
    "\n",
    "client = TCPclient()\n",
    "client.connect()\n",
    "response = client.send_receive(zapit_byte_tuple)\n",
    "client.close()\n",
    "del client\n",
    "\n",
    "parsed_response = ptu.parse_server_response(zapit_byte_tuple = zapit_byte_tuple,\n",
    "                  datetime_double = response[0],\n",
    "                  message_type_byte = response[1],\n",
    "                  response_byte_tuple =  response[2:4])"
   ]
  },
  {
   "cell_type": "code",
   "execution_count": null,
   "id": "2bf8403e",
   "metadata": {},
   "outputs": [],
   "source": []
  }
 ],
 "metadata": {
  "kernelspec": {
   "display_name": "Python 3 (ipykernel)",
   "language": "python",
   "name": "python3"
  },
  "language_info": {
   "codemirror_mode": {
    "name": "ipython",
    "version": 3
   },
   "file_extension": ".py",
   "mimetype": "text/x-python",
   "name": "python",
   "nbconvert_exporter": "python",
   "pygments_lexer": "ipython3",
   "version": "3.11.7"
  }
 },
 "nbformat": 4,
 "nbformat_minor": 5
}
