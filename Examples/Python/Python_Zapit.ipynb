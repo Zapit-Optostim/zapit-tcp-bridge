{
 "cells": [
  {
   "cell_type": "code",
   "execution_count": 10,
   "id": "88391005-0b94-40f1-9530-3d253c4fe5e7",
   "metadata": {},
   "outputs": [],
   "source": [
    "import datetime\n",
    "import struct\n",
    "import numpy as np"
   ]
  },
  {
   "cell_type": "code",
   "execution_count": 83,
   "id": "b69e12fa-2dda-4cd7-8f6b-575754963fcf",
   "metadata": {
    "tags": []
   },
   "outputs": [],
   "source": [
    "def gen_Zapit_byte_tuple(trial_state_command, arg_keys_dict, arg_values_dict):\n",
    "    \"\"\"\n",
    "    Generate a byte tuple to communicate with Zapit device.\n",
    "\n",
    "    Parameters:\n",
    "    trial_state_command (int): Integer value representing the trial state command.\n",
    "    arg_keys_dict (dict): A dictionary specifying the channels through Zapit is being communicated with.\n",
    "    arg_values_dict (dict): A dictionary specifying the actual boolean or integer values being communicated to Zapit.\n",
    "\n",
    "    Returns:\n",
    "    Tuple: A tuple containing two byte tuples. The first byte tuple contains the state command byte, the argument keys byte,\n",
    "    the argument values byte, and the condition number byte (if applicable). The second byte tuple contains the integer\n",
    "    values of the state command, argument keys, argument values, and condition number (if applicable).\n",
    "    \"\"\"\n",
    "    # map arg_keys_dict to ints\n",
    "    keys_to_int_dict = {\"conditionNum_channel\": 1, \"laser_channel\": 2, \"hardwareTriggered_channel\": 4,\n",
    "                        \"logging_channel\": 8, \"verbose_channel\": 16}\n",
    "\n",
    "    # map arg_values_dict to ints\n",
    "    bool_values_to_int_dict = {\"conditionNum\": 1, \"laser_ON\": 2, \"hardwareTriggered_ON\": 4,\n",
    "                               \"logging_ON\": 8, \"verbose_ON\": 16}\n",
    "\n",
    "    # map True/False boolean values to 1/0\n",
    "    bool_to_int_dict = {True: 1, False: 0}\n",
    "\n",
    "    # sum arg_keys ints and convert to byte\n",
    "    arg_keys_int = 0\n",
    "    for arg, key in arg_keys_dict.items():\n",
    "        arg_keys_int += bool_to_int_dict[key] * keys_to_int_dict[arg]\n",
    "        arg_keys_byte = arg_keys_int.to_bytes(1, 'big')\n",
    "\n",
    "    # sum arg_value ints and convert to byte\n",
    "    arg_values_int = 0\n",
    "    for arg, value in arg_values_dict.items():\n",
    "        try:\n",
    "            arg_values_int += bool_to_int_dict[value] * bool_values_to_int_dict[arg]\n",
    "            arg_values_byte = arg_values_int.to_bytes(1, 'big')\n",
    "        except:\n",
    "            pass\n",
    "\n",
    "    # define trial states where python will query zapit\n",
    "    trial_state_commands_dict = {\"stimConfLoaded\": 2, \"return_state\": 3,\n",
    "                                 \"numCondition\": 4, \"sendsamples\": 1, \"stopoptostim\": 0}\n",
    "    # convert state_command to byte\n",
    "    state_command_byte = trial_state_command.to_bytes(1, 'big')\n",
    "     # if True, extract condition nb and convert to byte\n",
    "    if arg_keys_dict['conditionNum_channel'] == True:\n",
    "        conditionNum_int = arg_values_dict[\"conditionNum\"]\n",
    "        conditionNum_byte = conditionNum_int.to_bytes(1, 'big')\n",
    "    else: \n",
    "        conditionNum_int = 255\n",
    "        conditionNum_byte = conditionNum_int.to_bytes(1, 'big')\n",
    "    if [k for k, v in trial_state_commands_dict.items() if v == trial_state_command][0] == \"sendsamples\": # if trial_state_command = \"sendsamples\"\n",
    "        zapit_com_bytes = [state_command_byte, arg_keys_byte, arg_values_byte, conditionNum_byte]\n",
    "        zapit_com_ints = [trial_state_command, arg_keys_int, arg_values_int, conditionNum_int]\n",
    "    else:\n",
    "        zapit_com_bytes = [state_command_byte, (0).to_bytes(1, 'big'), (0).to_bytes(1, 'big'), (0).to_bytes(1, 'big')]  \n",
    "        zapit_com_ints = [trial_state_command, 0, 0, 0]\n",
    "    return zapit_com_bytes, zapit_com_ints"
   ]
  },
  {
   "cell_type": "code",
   "execution_count": 84,
   "id": "a2f0d359-3962-4381-8c25-e8c922df4cf4",
   "metadata": {
    "tags": []
   },
   "outputs": [
    {
     "data": {
      "text/plain": [
       "([b'\\x01', b'\\x1c', b'\\x12', b'\\xff'], [1, 28, 18, 255])"
      ]
     },
     "execution_count": 84,
     "metadata": {},
     "output_type": "execute_result"
    }
   ],
   "source": [
    "gen_Zapit_byte_tuple(trial_state_command = 1,\n",
    "                     arg_keys_dict = {'conditionNum_channel': False, 'laser_channel': False, 'hardwareTriggered_channel': True, 'logging_channel': True, 'verbose_channel': True},\n",
    "                     arg_values_dict = {'conditionNum': 101, 'laser_ON': True, 'hardwareTriggered_ON': False, 'logging_ON': False, 'verbose_ON': True})"
   ]
  },
  {
   "cell_type": "code",
   "execution_count": 80,
   "id": "e4ac6c89-b179-4a79-be38-79fb418080a2",
   "metadata": {
    "tags": []
   },
   "outputs": [],
   "source": [
    "def datetime_float_to_str(date_float):\n",
    "    \"\"\"\n",
    "    Converts a MATLAB datenum value represented as a double-precision floating-point number\n",
    "    to a string representation of the date and time in ISO format (YYYY-MM-DD HH:MM:SS).\n",
    "\n",
    "    Parameters:\n",
    "    date_float (float): A double-precision floating-point number representing the date and time\n",
    "                        as a MATLAB datenum value.\n",
    "\n",
    "    Returns:\n",
    "    str: A string representation of the date and time in ISO format (YYYY-MM-DD HH:MM:SS).\n",
    "    \"\"\"\n",
    "    # Convert the datenum value to a Unix timestamp\n",
    "    unix_timestamp = (date_float - 719529) * 86400\n",
    "\n",
    "    # Create a datetime object from the Unix timestamp\n",
    "    datetime_str = str(datetime.datetime.fromtimestamp(unix_timestamp))\n",
    "\n",
    "    return datetime_str"
   ]
  },
  {
   "cell_type": "code",
   "execution_count": 81,
   "id": "390fc51d-b0f5-44e3-a14a-c942a8e18776",
   "metadata": {
    "tags": []
   },
   "outputs": [],
   "source": [
    "def parse_server_response(zapit_byte_tuple, datetime_double, message_type_byte, response_byte_tuple):\n",
    "    \"\"\"\n",
    "    Parse server response and return a tuple with a datetime string and a tuple of integers representing the response of Zapit.\n",
    "\n",
    "    Parameters:\n",
    "    zapit_byte_tuple (tuple): The output of gen_Zapit_byte_tuple containing the expected message_type_byte as the first element.\n",
    "    datetime_double (float): A double-precision floating-point number representing the date and time of the response,\n",
    "                             or -1 if there was an error, or 1 if the server connected successfully.\n",
    "    message_type_byte (bytes): A byte representing the message type of the response (e.g. sendSamples, stimConfLoaded etc.)\n",
    "    response_byte_tuple (tuple): A tuple of bytes representing the server response  (response_byte_tuple[0] as conditionNumber & response_byte_tuple[1] as laserOn)\n",
    "\n",
    "    Returns:\n",
    "    tuple: A tuple containing a status string and a tuple of integers representing the server response.\n",
    "           The status string can be one of the following:\n",
    "           - 'Error': The datetime was -1, indicating an error.\n",
    "           - 'Connected': The datetime was 1, indicating a successful connection.\n",
    "           - 'Mismatch': The message type byte did not match the expected value in zapit_byte_tuple[0].\n",
    "           - datetime_str: The datetime as a string, formatted using the datetime_float_to_str() function.\n",
    "           The tuple of integers represents the status codes returned by the server.\n",
    "\n",
    "    The function converts the byte strings in response_byte_tuple to a tuple of integers using a list comprehension.\n",
    "    If the datetime is -1 or 1, the function returns a status string and the tuple of integers.\n",
    "    If the message type byte does not match the expected value, the function returns 'Mismatch' and the tuple of integers.\n",
    "    Otherwise, the function returns the datetime as a string and the tuple of integers.\n",
    "    \"\"\"\n",
    "    server_response_ints = tuple(int(b[0]) for b in response_byte_tuple) # convert response_byte_tuple to a tuple of integers\n",
    "    if datetime_double == -1:\n",
    "        return('Error', server_response_ints)\n",
    "    elif datetime_double == 1:\n",
    "        return('Connected', server_response_ints)\n",
    "    else:\n",
    "        datetime_float64 = np.float64(datetime_double)\n",
    "        datetime_str = datetime_float_to_str(datetime_float64)\n",
    "        if message_type_byte != zapit_byte_tuple[0]: # check that Zapit is responding to the right message_type (e.g. sendSamples) else throw an error   \n",
    "            return('Mismatch', server_response_ints)\n",
    "        else: \n",
    "            pass\n",
    "    return(datetime_str, server_response_ints)"
   ]
  },
  {
   "cell_type": "code",
   "execution_count": 86,
   "id": "8ba67bfc-776e-4ec6-8dad-bdd48fbb2536",
   "metadata": {
    "tags": []
   },
   "outputs": [
    {
     "data": {
      "text/plain": [
       "('2023-03-29 11:34:43.413550', (1, 2))"
      ]
     },
     "execution_count": 86,
     "metadata": {},
     "output_type": "execute_result"
    }
   ],
   "source": [
    "parse_server_response(zapit_byte_tuple = [b'\\x01', b'\\x1e', b'\\x12', b'e'],\n",
    "                      datetime_double = 7.389744407802494e+05, # 7.389744407802494e+05\n",
    "                      message_type_byte = b'\\x01',\n",
    "                      response_byte_tuple =  (b'\\x01', b'\\x02'))"
   ]
  },
  {
   "cell_type": "code",
   "execution_count": null,
   "id": "ac07ee65-f192-480e-b21d-14a58faba068",
   "metadata": {},
   "outputs": [],
   "source": [
    "# tuple of [dataetime_float, message_byte, response_byte_tuple[0], response_byte_tuple[1], response_byte_tuple[2]]"
   ]
  },
  {
   "cell_type": "code",
   "execution_count": null,
   "id": "3c0390c6-07e5-4f4b-97ba-15725ff13721",
   "metadata": {},
   "outputs": [],
   "source": []
  },
  {
   "cell_type": "code",
   "execution_count": null,
   "id": "dc63ee14-aafd-4cb6-ac6c-b2654afb47f6",
   "metadata": {},
   "outputs": [],
   "source": []
  },
  {
   "cell_type": "code",
   "execution_count": null,
   "id": "1a42fb3c-cc8b-4fbe-95fb-2fbfb9f61f29",
   "metadata": {},
   "outputs": [],
   "source": []
  },
  {
   "cell_type": "code",
   "execution_count": null,
   "id": "32cb9f58-1381-410c-9607-bba01b307adf",
   "metadata": {},
   "outputs": [],
   "source": []
  },
  {
   "cell_type": "code",
   "execution_count": null,
   "id": "dbe5954f-abff-477f-84b5-097207b8291e",
   "metadata": {},
   "outputs": [],
   "source": []
  },
  {
   "cell_type": "code",
   "execution_count": null,
   "id": "f06d6da0-b222-44b4-9900-c95beb4401c0",
   "metadata": {},
   "outputs": [],
   "source": []
  },
  {
   "cell_type": "code",
   "execution_count": null,
   "id": "f82ea73c-50c3-4a64-b34d-1cb109faf6f7",
   "metadata": {},
   "outputs": [],
   "source": []
  },
  {
   "cell_type": "code",
   "execution_count": null,
   "id": "1c565771-7147-4419-8842-0052386b6e2b",
   "metadata": {},
   "outputs": [],
   "source": []
  },
  {
   "cell_type": "code",
   "execution_count": null,
   "id": "1637f254-4462-4d02-8716-7752502cc543",
   "metadata": {},
   "outputs": [],
   "source": []
  },
  {
   "cell_type": "code",
   "execution_count": null,
   "id": "58c5ae9a-677a-4aaf-bffe-03afa405a0d8",
   "metadata": {},
   "outputs": [],
   "source": []
  },
  {
   "cell_type": "code",
   "execution_count": null,
   "id": "ad20f405-95ca-4c55-9c33-3b462f623cd4",
   "metadata": {},
   "outputs": [],
   "source": []
  },
  {
   "cell_type": "code",
   "execution_count": null,
   "id": "8c581e0d-06e6-47fa-ad7a-fc4942a08e4b",
   "metadata": {},
   "outputs": [],
   "source": []
  },
  {
   "cell_type": "code",
   "execution_count": null,
   "id": "038965ed-5b71-4cc3-86f0-4f1dca5c0956",
   "metadata": {},
   "outputs": [],
   "source": []
  },
  {
   "cell_type": "code",
   "execution_count": null,
   "id": "f06d85b7-f1aa-4f84-a27d-759979a9be64",
   "metadata": {},
   "outputs": [],
   "source": []
  },
  {
   "cell_type": "code",
   "execution_count": null,
   "id": "daef7c31-f46f-4881-9fc6-bd0989e766c5",
   "metadata": {},
   "outputs": [],
   "source": []
  },
  {
   "cell_type": "code",
   "execution_count": null,
   "id": "9e79d815-b1e3-4575-8d94-d00fd3031f2a",
   "metadata": {},
   "outputs": [],
   "source": []
  },
  {
   "cell_type": "code",
   "execution_count": null,
   "id": "1f8bd93c-d955-4a36-b363-2e4573e3b438",
   "metadata": {},
   "outputs": [],
   "source": []
  },
  {
   "cell_type": "code",
   "execution_count": null,
   "id": "323f128f-04eb-4469-810a-4c1fef89f62b",
   "metadata": {},
   "outputs": [],
   "source": []
  },
  {
   "cell_type": "code",
   "execution_count": null,
   "id": "ed07bbec-038c-43da-9908-d57a48bc56cc",
   "metadata": {},
   "outputs": [],
   "source": []
  },
  {
   "cell_type": "code",
   "execution_count": 93,
   "id": "adac805c-b1fa-4650-9aa7-3316891c9b83",
   "metadata": {},
   "outputs": [],
   "source": [
    "def recover_dict_from_Zapit_tuple(zapit_com_ints):\n",
    "    \"\"\"\n",
    "    Converts a list of integers representing a Zapit command into a tuple of values.\n",
    "\n",
    "    Parameters:\n",
    "    zapit_com_ints (list): A list of integers representing a Zapit command.\n",
    "\n",
    "    Returns:\n",
    "    tuple: A tuple containing the following values:\n",
    "           - trial_state_command (int): An integer representing the trial state command.\n",
    "                                        If it is 1, the command is \"sendsamples\".\n",
    "           - arg_keys_dict (dict): A dictionary mapping integer keys to boolean values.\n",
    "                                   The keys represent the channels in the Zapit command.\n",
    "                                   The values are True if the channel is active, False otherwise.\n",
    "           - arg_values_dict (dict): A dictionary mapping integer keys to boolean values.\n",
    "                                     The keys represent the boolean arguments in the Zapit command.\n",
    "                                     The values are True if the argument is True, False otherwise.\n",
    "           - conditionNum (int): An integer representing the condition number.\n",
    "\n",
    "    The function uses two reverse mapping dictionaries to convert the integer keys and arguments\n",
    "    to string names, and a third dictionary to map 1/0 to True/False boolean values.\n",
    "    If the trial state command is not \"sendsamples\", arg_keys_dict, arg_values_dict, and conditionNum\n",
    "    are set to empty dictionaries and zero, respectively.\n",
    "    \"\"\"\n",
    "    # reverse mapping dicts\n",
    "    int_to_keys_dict = {1: \"conditionNum_channel\", 2: \"laser_channel\", 4: \"hardwareTriggered_channel\",\n",
    "                        8: \"logging_channel\", 16: \"verbose_channel\"}\n",
    "\n",
    "    int_to_bool_values_dict = {1: \"conditionNum\", 2: \"laser_ON\", 4: \"hardwareTriggered_ON\",\n",
    "                               8: \"logging_ON\", 16: \"verbose_ON\"}\n",
    "\n",
    "    # map 1/0 to True/False boolean values\n",
    "    int_to_bool_dict = {1: True, 0: False}\n",
    "\n",
    "    # extract trial_state_command\n",
    "    trial_state_command = zapit_com_ints[0]\n",
    "\n",
    "    if trial_state_command == 1: # if trial_state_command = \"sendsamples\"\n",
    "        arg_keys_int = zapit_com_ints[1]\n",
    "        arg_values_int = zapit_com_ints[2]\n",
    "        conditionNum = zapit_com_ints[3]\n",
    "\n",
    "        # extract arg_keys_dict from arg_keys_int\n",
    "        arg_keys_dict = {}\n",
    "        for key_int, key_name in int_to_keys_dict.items():\n",
    "            if arg_keys_int & key_int:\n",
    "                arg_keys_dict[key_name] = True\n",
    "            else:\n",
    "                arg_keys_dict[key_name] = False\n",
    "\n",
    "        # extract arg_values_dict from arg_values_int\n",
    "        arg_values_dict = {}\n",
    "        for bool_int, bool_name in int_to_bool_values_dict.items():\n",
    "            if arg_values_int & bool_int:\n",
    "                arg_values_dict[bool_name] = True\n",
    "            else:\n",
    "                arg_values_dict[bool_name] = False\n",
    "\n",
    "        # add conditionNum to arg_values_dict\n",
    "        arg_values_dict[\"conditionNum\"] = conditionNum\n",
    "\n",
    "    else:\n",
    "        # if trial_state_command != \"sendsamples\"\n",
    "        arg_keys_dict = {}\n",
    "        arg_values_dict = {}\n",
    "        conditionNum = 0\n",
    "\n",
    "    return trial_state_command, arg_keys_dict, arg_values_dict\n"
   ]
  },
  {
   "cell_type": "code",
   "execution_count": 96,
   "id": "4d64a9d1-1eaf-4693-9bca-1009e729b9b7",
   "metadata": {},
   "outputs": [
    {
     "name": "stdout",
     "output_type": "stream",
     "text": [
      "3\n",
      "{}\n",
      "{}\n"
     ]
    }
   ],
   "source": [
    "zapit_byte_ints = [3, 1, 2, 3]\n",
    "trial_state_command, arg_keys_dict, arg_values_dict = recover_dict_from_Zapit_tuple(zapit_byte_ints)\n",
    "\n",
    "print(trial_state_command)  \n",
    "print(arg_keys_dict)        \n",
    "print(arg_values_dict)      "
   ]
  },
  {
   "cell_type": "code",
   "execution_count": null,
   "id": "3cfc570c-58d5-4d08-b8dc-72b25fb56449",
   "metadata": {},
   "outputs": [],
   "source": []
  },
  {
   "cell_type": "code",
   "execution_count": null,
   "id": "4bbcdfa3-6f4b-4b41-9c0f-380218cdff1f",
   "metadata": {},
   "outputs": [],
   "source": []
  },
  {
   "cell_type": "code",
   "execution_count": null,
   "id": "cf4a9524-ca03-4e14-ba6b-fc4a18673327",
   "metadata": {},
   "outputs": [],
   "source": []
  },
  {
   "cell_type": "code",
   "execution_count": null,
   "id": "688467a2-1d60-4700-a7e7-af66c6fe2850",
   "metadata": {},
   "outputs": [],
   "source": []
  }
 ],
 "metadata": {
  "kernelspec": {
   "display_name": "Python 3 (ipykernel)",
   "language": "python",
   "name": "python3"
  },
  "language_info": {
   "codemirror_mode": {
    "name": "ipython",
    "version": 3
   },
   "file_extension": ".py",
   "mimetype": "text/x-python",
   "name": "python",
   "nbconvert_exporter": "python",
   "pygments_lexer": "ipython3",
   "version": "3.10.9"
  }
 },
 "nbformat": 4,
 "nbformat_minor": 5
}
