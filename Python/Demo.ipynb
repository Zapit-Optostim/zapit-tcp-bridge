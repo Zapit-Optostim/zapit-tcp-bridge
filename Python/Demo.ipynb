{
 "cells": [
  {
   "cell_type": "markdown",
   "id": "5f2a4289-61b6-4484-a342-12f6060227f0",
   "metadata": {},
   "source": [
    "# Python TCP Demonstration Notebook"
   ]
  },
  {
   "cell_type": "markdown",
   "id": "cb4733cb-2332-47ca-8966-3cc8baa24bac",
   "metadata": {},
   "source": [
    "### 1. Generate a communication tuple"
   ]
  },
  {
   "cell_type": "markdown",
   "id": "60505d0c-cda8-4f7b-90fd-2c249471300b",
   "metadata": {},
   "source": [
    "Import the Python_TCP_Utils.py module."
   ]
  },
  {
   "cell_type": "code",
   "execution_count": 1,
   "id": "2b4b8e1a-6ed3-4071-bc97-19e164d053b6",
   "metadata": {
    "tags": []
   },
   "outputs": [],
   "source": [
    "import Python_TCP_Utils as ptu"
   ]
  },
  {
   "cell_type": "markdown",
   "id": "b6486f2a-8bda-4ceb-92ea-46e6c9717c65",
   "metadata": {},
   "source": [
    "Call the gen_Zapit_byte_tuple function."
   ]
  },
  {
   "cell_type": "code",
   "execution_count": 2,
   "id": "409f6a18-2a3b-4983-a077-9e1ace8cf189",
   "metadata": {
    "tags": []
   },
   "outputs": [],
   "source": [
    "zapit_byte_tuple, zapit_int_tuple = ptu.gen_Zapit_byte_tuple(trial_state_command = 1,\n",
    "                   arg_keys_dict = {'conditionNum_channel': True, 'laser_channel': True, \n",
    "                                    'hardwareTriggered_channel': False, 'logging_channel': False, \n",
    "                                    'verbose_channel': False},\n",
    "                   arg_values_dict = {'conditionNum': 4, 'laser_ON': True, \n",
    "                                      'hardwareTriggered_ON': False, 'logging_ON': False, \n",
    "                                      'verbose_ON': False})"
   ]
  },
  {
   "cell_type": "code",
   "execution_count": 3,
   "id": "82359d1e",
   "metadata": {},
   "outputs": [
    {
     "data": {
      "text/plain": [
       "([b'\\x01', b'\\x03', b'\\x02', b'\\x04'], [1, 3, 2, 4])"
      ]
     },
     "execution_count": 3,
     "metadata": {},
     "output_type": "execute_result"
    }
   ],
   "source": [
    "zapit_byte_tuple, zapit_int_tuple"
   ]
  },
  {
   "cell_type": "markdown",
   "id": "ae4b6b9f-6f7b-4265-a639-fc75552c3b6e",
   "metadata": {},
   "source": [
    "### 2.  Send it to Zapit"
   ]
  },
  {
   "cell_type": "markdown",
   "id": "4937d911-760f-4c9e-9ad1-41a2c6dbecbb",
   "metadata": {},
   "source": [
    "Import the class from TCPclient.py module."
   ]
  },
  {
   "cell_type": "code",
   "execution_count": 4,
   "id": "09a8ae96-6826-4f83-a69b-c817bca14876",
   "metadata": {
    "tags": []
   },
   "outputs": [],
   "source": [
    "from TCPclient import TCPclient"
   ]
  },
  {
   "cell_type": "markdown",
   "id": "81839104-d7f4-470d-b51c-7b055de48e6e",
   "metadata": {},
   "source": [
    "Create an instance of the TCPclient class."
   ]
  },
  {
   "cell_type": "code",
   "execution_count": 5,
   "id": "b1f1e638-6849-461c-914b-e2a0409f4d78",
   "metadata": {
    "tags": []
   },
   "outputs": [],
   "source": [
    "client = TCPclient()"
   ]
  },
  {
   "cell_type": "markdown",
   "id": "dd3e99e7-af41-4583-a053-7ce7fe58b3be",
   "metadata": {},
   "source": [
    "Call the connect method to establish a connection with the server."
   ]
  },
  {
   "cell_type": "code",
   "execution_count": 6,
   "id": "e1563ae1-eb6b-43c9-adaf-55389f8ab6b6",
   "metadata": {
    "tags": []
   },
   "outputs": [
    {
     "ename": "ConnectionRefusedError",
     "evalue": "[WinError 10061] No connection could be made because the target machine actively refused it",
     "output_type": "error",
     "traceback": [
      "\u001b[1;31m---------------------------------------------------------------------------\u001b[0m",
      "\u001b[1;31mConnectionRefusedError\u001b[0m                    Traceback (most recent call last)",
      "Cell \u001b[1;32mIn[6], line 1\u001b[0m\n\u001b[1;32m----> 1\u001b[0m client\u001b[39m.\u001b[39;49mconnect()\n",
      "File \u001b[1;32mc:\\Users\\Psychophysics\\Desktop\\Zapit\\Python_TCP\\TCPclient.py:16\u001b[0m, in \u001b[0;36mTCPclient.connect\u001b[1;34m(self)\u001b[0m\n\u001b[0;32m     14\u001b[0m \u001b[39mif\u001b[39;00m \u001b[39mself\u001b[39m\u001b[39m.\u001b[39mconnected \u001b[39mis\u001b[39;00m \u001b[39mFalse\u001b[39;00m:\n\u001b[0;32m     15\u001b[0m     \u001b[39mself\u001b[39m\u001b[39m.\u001b[39ms \u001b[39m=\u001b[39m socket\u001b[39m.\u001b[39msocket(socket\u001b[39m.\u001b[39mAF_INET, socket\u001b[39m.\u001b[39mSOCK_STREAM)\n\u001b[1;32m---> 16\u001b[0m     \u001b[39mself\u001b[39;49m\u001b[39m.\u001b[39;49ms\u001b[39m.\u001b[39;49mconnect((\u001b[39mself\u001b[39;49m\u001b[39m.\u001b[39;49mtcp_ip,\u001b[39mself\u001b[39;49m\u001b[39m.\u001b[39;49mtcp_port))\n\u001b[0;32m     17\u001b[0m     \u001b[39mself\u001b[39m\u001b[39m.\u001b[39mconnected   \u001b[39m=\u001b[39m \u001b[39mTrue\u001b[39;00m\n\u001b[0;32m     18\u001b[0m     \u001b[39mreturn\u001b[39;00m (\u001b[39m1.0\u001b[39m,\u001b[39mb\u001b[39m\u001b[39m\"\u001b[39m\u001b[39m\\x01\u001b[39;00m\u001b[39m\"\u001b[39m,\u001b[39mb\u001b[39m\u001b[39m\"\u001b[39m\u001b[39m\\x01\u001b[39;00m\u001b[39m\"\u001b[39m,\u001b[39mb\u001b[39m\u001b[39m\"\u001b[39m\u001b[39m\\x01\u001b[39;00m\u001b[39m\"\u001b[39m) \u001b[39m# Message to connect whilst not connected\u001b[39;00m\n",
      "\u001b[1;31mConnectionRefusedError\u001b[0m: [WinError 10061] No connection could be made because the target machine actively refused it"
     ]
    }
   ],
   "source": [
    "client.connect()"
   ]
  },
  {
   "cell_type": "markdown",
   "id": "79c14e32-9483-45fb-817f-8f41a3a7c83f",
   "metadata": {},
   "source": [
    "Call the send_recieve method to send the zapit_byte_tuple to the server and receive a response."
   ]
  },
  {
   "cell_type": "code",
   "execution_count": 7,
   "id": "52d1ec11-4b10-4f3a-991c-ce53013733c4",
   "metadata": {
    "tags": []
   },
   "outputs": [],
   "source": [
    "response = client.send_receive(zapit_byte_tuple)"
   ]
  },
  {
   "cell_type": "code",
   "execution_count": 8,
   "id": "1b5e6497",
   "metadata": {},
   "outputs": [
    {
     "data": {
      "text/plain": [
       "(739001.7957587816, b'\\x01', b'\\x04', b'\\x01')"
      ]
     },
     "execution_count": 8,
     "metadata": {},
     "output_type": "execute_result"
    }
   ],
   "source": [
    "response"
   ]
  },
  {
   "cell_type": "markdown",
   "id": "8fae12a9-b682-4a5f-84e5-186a81a642dd",
   "metadata": {},
   "source": [
    "Call the close method to close the connection."
   ]
  },
  {
   "cell_type": "code",
   "execution_count": 9,
   "id": "68d2436e-9dc9-48b0-81a9-bbb5f573190e",
   "metadata": {
    "tags": []
   },
   "outputs": [
    {
     "name": "stdout",
     "output_type": "stream",
     "text": [
      "Connection to port 1488  at address 127.0.0.1 closed\n"
     ]
    },
    {
     "data": {
      "text/plain": [
       "(-1.0, b'\\x01', b'\\x00', b'\\x00')"
      ]
     },
     "execution_count": 9,
     "metadata": {},
     "output_type": "execute_result"
    }
   ],
   "source": [
    "client.close()"
   ]
  },
  {
   "cell_type": "markdown",
   "id": "1fdfecbb-d8a0-4002-a662-c22d31f238dd",
   "metadata": {},
   "source": [
    "Delete the instance of the class to trigger the __del__ method."
   ]
  },
  {
   "cell_type": "code",
   "execution_count": 10,
   "id": "ac314c7c-d9d6-4a81-99a5-ddbdf0bec6de",
   "metadata": {
    "tags": []
   },
   "outputs": [],
   "source": [
    "del client"
   ]
  },
  {
   "cell_type": "markdown",
   "id": "83e9b32b-666f-4662-b793-7609ba3e73cc",
   "metadata": {
    "tags": []
   },
   "source": [
    "### 3. Parse the response"
   ]
  },
  {
   "cell_type": "code",
   "execution_count": 11,
   "id": "3b8e1881-a1b1-494a-ae70-21bd0631b535",
   "metadata": {
    "tags": []
   },
   "outputs": [],
   "source": [
    "parsed_response = ptu.parse_server_response(zapit_byte_tuple = zapit_byte_tuple,\n",
    "                  datetime_double = response[0],\n",
    "                  message_type_byte = response[1],\n",
    "                  response_byte_tuple =  response[2:4])"
   ]
  },
  {
   "cell_type": "code",
   "execution_count": 12,
   "id": "6c45a16a",
   "metadata": {},
   "outputs": [
    {
     "data": {
      "text/plain": [
       "('2023-04-25 20:05:53.558731', (4, 1))"
      ]
     },
     "execution_count": 12,
     "metadata": {},
     "output_type": "execute_result"
    }
   ],
   "source": [
    "parsed_response"
   ]
  },
  {
   "attachments": {},
   "cell_type": "markdown",
   "id": "019bcc10-3f70-43c6-bdf4-91637f60dbd0",
   "metadata": {},
   "source": [
    "### In a single step (you may need to restart the kernel)"
   ]
  },
  {
   "cell_type": "code",
   "execution_count": 1,
   "id": "6e6c3559-bd24-4a9f-86a1-871869db9b03",
   "metadata": {
    "tags": []
   },
   "outputs": [
    {
     "ename": "ConnectionRefusedError",
     "evalue": "[WinError 10061] No connection could be made because the target machine actively refused it",
     "output_type": "error",
     "traceback": [
      "\u001b[1;31m---------------------------------------------------------------------------\u001b[0m",
      "\u001b[1;31mConnectionRefusedError\u001b[0m                    Traceback (most recent call last)",
      "Cell \u001b[1;32mIn[1], line 13\u001b[0m\n\u001b[0;32m      4\u001b[0m zapit_byte_tuple, _ \u001b[39m=\u001b[39m ptu\u001b[39m.\u001b[39mgen_Zapit_byte_tuple(trial_state_command \u001b[39m=\u001b[39m \u001b[39m1\u001b[39m,\n\u001b[0;32m      5\u001b[0m                    arg_keys_dict \u001b[39m=\u001b[39m {\u001b[39m'\u001b[39m\u001b[39mconditionNum_channel\u001b[39m\u001b[39m'\u001b[39m: \u001b[39mFalse\u001b[39;00m, \u001b[39m'\u001b[39m\u001b[39mlaser_channel\u001b[39m\u001b[39m'\u001b[39m: \u001b[39mFalse\u001b[39;00m, \n\u001b[0;32m      6\u001b[0m                                          \u001b[39m'\u001b[39m\u001b[39mhardwareTriggered_channel\u001b[39m\u001b[39m'\u001b[39m: \u001b[39mTrue\u001b[39;00m, \u001b[39m'\u001b[39m\u001b[39mlogging_channel\u001b[39m\u001b[39m'\u001b[39m: \u001b[39mTrue\u001b[39;00m, \n\u001b[1;32m   (...)\u001b[0m\n\u001b[0;32m      9\u001b[0m                                            \u001b[39m'\u001b[39m\u001b[39mhardwareTriggered_ON\u001b[39m\u001b[39m'\u001b[39m: \u001b[39mFalse\u001b[39;00m, \u001b[39m'\u001b[39m\u001b[39mlogging_ON\u001b[39m\u001b[39m'\u001b[39m: \u001b[39mFalse\u001b[39;00m, \n\u001b[0;32m     10\u001b[0m                                            \u001b[39m'\u001b[39m\u001b[39mverbose_ON\u001b[39m\u001b[39m'\u001b[39m: \u001b[39mTrue\u001b[39;00m})\n\u001b[0;32m     12\u001b[0m client \u001b[39m=\u001b[39m TCPclient()\n\u001b[1;32m---> 13\u001b[0m client\u001b[39m.\u001b[39;49mconnect()\n\u001b[0;32m     14\u001b[0m response \u001b[39m=\u001b[39m client\u001b[39m.\u001b[39msend_receive(zapit_byte_tuple)\n\u001b[0;32m     15\u001b[0m client\u001b[39m.\u001b[39mclose()\n",
      "File \u001b[1;32mc:\\Users\\Psychophysics\\Desktop\\Zapit\\Python_TCP\\TCPclient.py:16\u001b[0m, in \u001b[0;36mTCPclient.connect\u001b[1;34m(self)\u001b[0m\n\u001b[0;32m     14\u001b[0m \u001b[39mif\u001b[39;00m \u001b[39mself\u001b[39m\u001b[39m.\u001b[39mconnected \u001b[39mis\u001b[39;00m \u001b[39mFalse\u001b[39;00m:\n\u001b[0;32m     15\u001b[0m     \u001b[39mself\u001b[39m\u001b[39m.\u001b[39ms \u001b[39m=\u001b[39m socket\u001b[39m.\u001b[39msocket(socket\u001b[39m.\u001b[39mAF_INET, socket\u001b[39m.\u001b[39mSOCK_STREAM)\n\u001b[1;32m---> 16\u001b[0m     \u001b[39mself\u001b[39;49m\u001b[39m.\u001b[39;49ms\u001b[39m.\u001b[39;49mconnect((\u001b[39mself\u001b[39;49m\u001b[39m.\u001b[39;49mtcp_ip,\u001b[39mself\u001b[39;49m\u001b[39m.\u001b[39;49mtcp_port))\n\u001b[0;32m     17\u001b[0m     \u001b[39mself\u001b[39m\u001b[39m.\u001b[39mconnected   \u001b[39m=\u001b[39m \u001b[39mTrue\u001b[39;00m\n\u001b[0;32m     18\u001b[0m     \u001b[39mreturn\u001b[39;00m (\u001b[39m1.0\u001b[39m,\u001b[39mb\u001b[39m\u001b[39m\"\u001b[39m\u001b[39m\\x01\u001b[39;00m\u001b[39m\"\u001b[39m,\u001b[39mb\u001b[39m\u001b[39m\"\u001b[39m\u001b[39m\\x01\u001b[39;00m\u001b[39m\"\u001b[39m,\u001b[39mb\u001b[39m\u001b[39m\"\u001b[39m\u001b[39m\\x01\u001b[39;00m\u001b[39m\"\u001b[39m) \u001b[39m# Message to connect whilst not connected\u001b[39;00m\n",
      "\u001b[1;31mConnectionRefusedError\u001b[0m: [WinError 10061] No connection could be made because the target machine actively refused it"
     ]
    }
   ],
   "source": [
    "import Python_TCP_Utils as ptu\n",
    "from TCPclient import TCPclient\n",
    "\n",
    "zapit_byte_tuple, _ = ptu.gen_Zapit_byte_tuple(trial_state_command = 1,\n",
    "                   arg_keys_dict = {'conditionNum_channel': False, 'laser_channel': False, \n",
    "                                         'hardwareTriggered_channel': True, 'logging_channel': True, \n",
    "                                         'verbose_channel': True},\n",
    "                   arg_values_dict = {'conditionNum': 101, 'laser_ON': True, \n",
    "                                           'hardwareTriggered_ON': False, 'logging_ON': False, \n",
    "                                           'verbose_ON': True})\n",
    "\n",
    "client = TCPclient()\n",
    "client.connect()\n",
    "response = client.send_receive(zapit_byte_tuple)\n",
    "client.close()\n",
    "del client\n",
    "\n",
    "parsed_response = ptu.parse_server_response(zapit_byte_tuple = zapit_byte_tuple,\n",
    "                  datetime_double = response[0],\n",
    "                  message_type_byte = response[1],\n",
    "                  response_byte_tuple =  response[2:4])"
   ]
  },
  {
   "cell_type": "code",
   "execution_count": null,
   "id": "caa08197",
   "metadata": {},
   "outputs": [],
   "source": []
  },
  {
   "cell_type": "code",
   "execution_count": null,
   "id": "64241966",
   "metadata": {},
   "outputs": [],
   "source": []
  },
  {
   "cell_type": "code",
   "execution_count": null,
   "id": "b3ac75a7",
   "metadata": {},
   "outputs": [],
   "source": []
  },
  {
   "cell_type": "code",
   "execution_count": null,
   "id": "cbdb7dde",
   "metadata": {},
   "outputs": [],
   "source": []
  }
 ],
 "metadata": {
  "kernelspec": {
   "display_name": "Python 3 (ipykernel)",
   "language": "python",
   "name": "python3"
  },
  "language_info": {
   "codemirror_mode": {
    "name": "ipython",
    "version": 3
   },
   "file_extension": ".py",
   "mimetype": "text/x-python",
   "name": "python",
   "nbconvert_exporter": "python",
   "pygments_lexer": "ipython3",
   "version": "3.10.9"
  }
 },
 "nbformat": 4,
 "nbformat_minor": 5
}
